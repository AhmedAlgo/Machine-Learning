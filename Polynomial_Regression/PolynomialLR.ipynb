{
 "cells": [
  {
   "cell_type": "markdown",
   "metadata": {},
   "source": [
    "# Polynomial Regression\n",
    "- Simple Linear Regression: y = w0+ w1x\n",
    "- Multiple Linear Regression: y = w0+ w1x1+ w2x2+....... + wnxn\n",
    "- Polynomial Linear Regression: y = w0+ w1x1+ w2x1^2+....... + wnx1^n"
   ]
  },
  {
   "cell_type": "markdown",
   "metadata": {},
   "source": [
    "### Given a new potential employee, can we predict what salary we should be offering?"
   ]
  },
  {
   "cell_type": "markdown",
   "metadata": {},
   "source": [
    "### Data Preparation"
   ]
  },
  {
   "cell_type": "code",
   "execution_count": 7,
   "metadata": {},
   "outputs": [],
   "source": [
    "#import the required libraries\n",
    "import numpy as np \n",
    "import matplotlib.pyplot as plt \n",
    "import pandas as pd\n",
    "\n",
    "#Loading the dataset \n",
    "dataset = pd.read_csv('salary.csv') # Store the dataset in a dataframe\n",
    "\n",
    "X = dataset.iloc[:, 1:2].values # We are not using column 1. Also we slice it this way because we want X to be a matrix\n",
    "y = dataset.iloc[:,2].values  \n",
    "\n",
    "#Splitting the data into Training Set and Test Set\n",
    "#from sklearn.model_selection import train_test_split \n",
    "#X_train, X_test, y_train, y_test = train_test_split(X,y,test_size=0.3) #Test size = 30%, training size = 70%\n"
   ]
  },
  {
   "cell_type": "markdown",
   "metadata": {},
   "source": [
    "#### For comparison, we will create both Linear Regression and Polynomial Regression models\n",
    "\n",
    "### Building a Linear Regression Model"
   ]
  },
  {
   "cell_type": "code",
   "execution_count": 8,
   "metadata": {},
   "outputs": [
    {
     "data": {
      "text/plain": [
       "LinearRegression(copy_X=True, fit_intercept=True, n_jobs=None, normalize=False)"
      ]
     },
     "execution_count": 8,
     "metadata": {},
     "output_type": "execute_result"
    }
   ],
   "source": [
    "#Fitting Linear Regression to Training Set \n",
    "from sklearn.linear_model import LinearRegression \n",
    "\n",
    "lrObj = LinearRegression() \n",
    "lrObj.fit(X, y)"
   ]
  },
  {
   "cell_type": "markdown",
   "metadata": {},
   "source": [
    "We will be using a new class called PolynomialFeaturesfrom the preprocessing library of sklearn.\n",
    "An object of this class is responsible for transforming variables of X to higher order. "
   ]
  },
  {
   "cell_type": "markdown",
   "metadata": {},
   "source": [
    "## Polynomial Regression"
   ]
  },
  {
   "cell_type": "code",
   "execution_count": 9,
   "metadata": {},
   "outputs": [
    {
     "data": {
      "text/plain": [
       "LinearRegression(copy_X=True, fit_intercept=True, n_jobs=None, normalize=False)"
      ]
     },
     "execution_count": 9,
     "metadata": {},
     "output_type": "execute_result"
    }
   ],
   "source": [
    "#import the required libraries\n",
    "from sklearn.preprocessing import PolynomialFeatures\n",
    "\n",
    "polyFeatureObj= PolynomialFeatures(degree=2)\n",
    "\n",
    "X_poly= polyFeatureObj.fit_transform(X)\n",
    "\n",
    "prObj= LinearRegression()\n",
    "\n",
    "prObj.fit(X_poly, y)"
   ]
  },
  {
   "cell_type": "markdown",
   "metadata": {},
   "source": [
    "### Visualizing the results of the two models"
   ]
  },
  {
   "cell_type": "code",
   "execution_count": 10,
   "metadata": {},
   "outputs": [
    {
     "data": {
      "image/png": "[encoded data removed]",
      "text/plain": [
       "<Figure size 432x288 with 1 Axes>"
      ]
     },
     "metadata": {
      "needs_background": "light"
     },
     "output_type": "display_data"
    }
   ],
   "source": [
    "#Visualizing Results of Linear Regression\n",
    "\n",
    "plt.scatter(X, y, color='red')\n",
    "plt.plot(X, lrObj.predict(X), color='blue')\n",
    "\n",
    "plt.title('Results of Linear Regression Model')\n",
    "\n",
    "plt.xlabel('Level')\n",
    "plt.ylabel('Salary')\n",
    "\n",
    "plt.show()"
   ]
  },
  {
   "cell_type": "code",
   "execution_count": 12,
   "metadata": {},
   "outputs": [
    {
     "data": {
      "image/png": "[encoded data removed]",
      "text/plain": [
       "<Figure size 432x288 with 1 Axes>"
      ]
     },
     "metadata": {
      "needs_background": "light"
     },
     "output_type": "display_data"
    }
   ],
   "source": [
    "#Visualizing Results of Polynomial Regression\n",
    "\n",
    "plt.scatter(X, y, color='red')\n",
    "plt.plot(X, prObj.predict(X_poly), color='blue')\n",
    "\n",
    "plt.title('Results of Polynomial Regression Model')\n",
    "\n",
    "plt.xlabel('Level')\n",
    "plt.ylabel('Salary')\n",
    "\n",
    "plt.show()"
   ]
  },
  {
   "cell_type": "markdown",
   "metadata": {},
   "source": [
    "### Making predictions\n",
    "- A potential employee is currently working as a vice president for last 2 years. \n",
    "- He is expecting a salary of 190000 for his 2 years experience as vice president. \n",
    "- An employee can rise from Vice President to President level in 6 years, so we will predict salary for **8.33** level, because   the employee has worked one third of tenure to become President."
   ]
  },
  {
   "cell_type": "code",
   "execution_count": 15,
   "metadata": {},
   "outputs": [
    {
     "name": "stdout",
     "output_type": "stream",
     "text": [
      "[241072.42424242]\n",
      "\n",
      "[238847.72878788]\n"
     ]
    }
   ],
   "source": [
    "#Predicting with Linear Model\n",
    "print(lrObj.predict([[8.33]]))\n",
    "\n",
    "print()\n",
    "\n",
    "#Predicting with Polynomial Model with degree 4\n",
    "print(prObj.predict(polyFeatureObj.fit_transform([[8.33]])))"
   ]
  },
  {
   "cell_type": "code",
   "execution_count": null,
   "metadata": {},
   "outputs": [],
   "source": []
  }
 ],
 "metadata": {
  "kernelspec": {
   "display_name": "Python 3",
   "language": "python",
   "name": "python3"
  },
  "language_info": {
   "codemirror_mode": {
    "name": "ipython",
    "version": 3
   },
   "file_extension": ".py",
   "mimetype": "text/x-python",
   "name": "python",
   "nbconvert_exporter": "python",
   "pygments_lexer": "ipython3",
   "version": "3.7.3"
  }
 },
 "nbformat": 4,
 "nbformat_minor": 2
}
