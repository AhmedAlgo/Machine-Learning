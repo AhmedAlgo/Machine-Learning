{
 "cells": [
  {
   "cell_type": "markdown",
   "metadata": {},
   "source": [
    "## Data Preparation"
   ]
  },
  {
   "cell_type": "code",
   "execution_count": 1,
   "metadata": {},
   "outputs": [],
   "source": [
    "#import the required libraries\n",
    "import numpy as np \n",
    "import matplotlib.pyplot as plt \n",
    "import pandas as pd\n",
    "\n",
    "#Loading the dataset \n",
    "dataset = pd.read_csv('gm.csv') #Store the dataset in a dataframe\n",
    "\n",
    "X = dataset.iloc[:,:-1].values   # [:, :-1] Store all the raws, Store all the columns except the last one\n",
    "y = dataset.iloc[:,1].values    # [:,1] Store all the raws,  Store colum 1\n",
    "\n",
    "# Splitting the data into Training Set and Test Set\n",
    "from sklearn.model_selection import train_test_split \n",
    "X_train, X_test, y_train, y_test = train_test_split(X,y,test_size=0.3) #Test size = 30%, training size = 70% \n",
    "\n",
    "#Normalizing the features\n",
    "#from sklearn.preprocessing import StandardScaler \n",
    "#sc_X = StandardScaler() \n",
    "#X_train = sc_X.fit_transform(X_train) \n",
    "#X_test = sc_X.transform(X_test)\n",
    "\n"
   ]
  },
  {
   "cell_type": "markdown",
   "metadata": {},
   "source": [
    "## Building a Linear Regression Model"
   ]
  },
  {
   "cell_type": "code",
   "execution_count": 2,
   "metadata": {},
   "outputs": [
    {
     "data": {
      "text/plain": [
       "LinearRegression(copy_X=True, fit_intercept=True, n_jobs=None, normalize=False)"
      ]
     },
     "execution_count": 2,
     "metadata": {},
     "output_type": "execute_result"
    }
   ],
   "source": [
    "#Fitting Linear Regression to Training Set \n",
    "from sklearn.linear_model import LinearRegression \n",
    "\n",
    "lrObj = LinearRegression() \n",
    "lrObj.fit(X_train, y_train)"
   ]
  },
  {
   "cell_type": "code",
   "execution_count": 4,
   "metadata": {},
   "outputs": [],
   "source": [
    "#Prediction on the Test Set \n",
    "y_pred = lrObj.predict(X_test)"
   ]
  },
  {
   "cell_type": "code",
   "execution_count": 5,
   "metadata": {},
   "outputs": [
    {
     "name": "stdout",
     "output_type": "stream",
     "text": [
      "[16.1 13.5 21.  14.  15.1 15.2 16.9]\n"
     ]
    }
   ],
   "source": [
    "#We can compare the predicted values with the actual values \n",
    "print(y_test) "
   ]
  },
  {
   "cell_type": "code",
   "execution_count": 6,
   "metadata": {},
   "outputs": [
    {
     "name": "stdout",
     "output_type": "stream",
     "text": [
      "[16.12354217 13.52643094 18.54751265 13.61300132 15.17126805 15.25783843\n",
      " 16.98924592]\n"
     ]
    }
   ],
   "source": [
    "print(y_pred)"
   ]
  },
  {
   "cell_type": "markdown",
   "metadata": {},
   "source": [
    "## Visual Exploration"
   ]
  },
  {
   "cell_type": "code",
   "execution_count": 7,
   "metadata": {},
   "outputs": [
    {
     "data": {
      "image/png": "[encoded data removed]",
      "text/plain": [
       "<Figure size 432x288 with 1 Axes>"
      ]
     },
     "metadata": {
      "needs_background": "light"
     },
     "output_type": "display_data"
    }
   ],
   "source": [
    "#Visual Exploration of Training Set \n",
    "\n",
    "plt.scatter(X_train,y_train,color='red') \n",
    "plt.plot(X_train, lrObj.predict(X_train), color='blue') \n",
    "\n",
    "plt.title('List Price vs Best Price on Training Set') \n",
    "plt.xlabel('List Price') \n",
    "plt.ylabel('Best Price') \n",
    "\n",
    "plt.show()"
   ]
  },
  {
   "cell_type": "code",
   "execution_count": 8,
   "metadata": {},
   "outputs": [
    {
     "data": {
      "image/png": "[encoded data removed]",
      "text/plain": [
       "<Figure size 432x288 with 1 Axes>"
      ]
     },
     "metadata": {
      "needs_background": "light"
     },
     "output_type": "display_data"
    }
   ],
   "source": [
    "#Visual Exploration of Testing Set \n",
    "\n",
    "plt.scatter(X_test,y_test,color='red') \n",
    "plt.plot(X_train, lrObj.predict(X_train), color='blue') \n",
    "\n",
    "plt.title('List Price vs Best Price on Testing Set') \n",
    "plt.xlabel('List Price') \n",
    "plt.ylabel('Best Price') \n",
    "\n",
    "plt.show()"
   ]
  },
  {
   "cell_type": "code",
   "execution_count": null,
   "metadata": {},
   "outputs": [],
   "source": []
  }
 ],
 "metadata": {
  "kernelspec": {
   "display_name": "Python 3",
   "language": "python",
   "name": "python3"
  },
  "language_info": {
   "codemirror_mode": {
    "name": "ipython",
    "version": 3
   },
   "file_extension": ".py",
   "mimetype": "text/x-python",
   "name": "python",
   "nbconvert_exporter": "python",
   "pygments_lexer": "ipython3",
   "version": "3.7.3"
  }
 },
 "nbformat": 4,
 "nbformat_minor": 2
}
